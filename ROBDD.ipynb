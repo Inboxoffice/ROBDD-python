{
  "nbformat": 4,
  "nbformat_minor": 0,
  "metadata": {
    "colab": {
      "name": "ROBDD",
      "provenance": []
    },
    "kernelspec": {
      "name": "python3",
      "display_name": "Python 3"
    },
    "language_info": {
      "name": "python"
    }
  },
  "cells": [
    {
      "cell_type": "markdown",
      "metadata": {
        "id": "K8AOrOxZHPkw"
      },
      "source": [
        "Node creation for ROBDD.Low means the final logic 0 and high means logic 1 \n"
      ]
    },
    {
      "cell_type": "code",
      "metadata": {
        "id": "oG-oSO73HNXi"
      },
      "source": [
        "class Node:\n",
        "    def __init__(self, name = None):\n",
        "        self.name = name #name of the variable (a,b,c etc..)\n",
        "        # high and low pointers\n",
        "        self.high = None \n",
        "        self.low = None\n",
        "        return\n",
        "# low means logic 0 and high means logic 1\n",
        "low=Node(\"0\")\n",
        "high=Node(\"1\")"
      ],
      "execution_count": 63,
      "outputs": []
    },
    {
      "cell_type": "markdown",
      "metadata": {
        "id": "5oYn5ofNHthU"
      },
      "source": [
        "Unique Table for storing the variable pointers. "
      ]
    },
    {
      "cell_type": "code",
      "metadata": {
        "id": "Du19XXbw38U9"
      },
      "source": [
        "def get_pointer_from_UT(key,node_ptr):\n",
        "  if key in unique_table.keys(): #key found for pointers for variables\n",
        "    return unique_table[key]\n",
        "  else: #not found\n",
        "    unique_table[key]=node_ptr\n",
        "    return unique_table[key]"
      ],
      "execution_count": 64,
      "outputs": []
    },
    {
      "cell_type": "markdown",
      "metadata": {
        "id": "lgX7KXFjH4Gl"
      },
      "source": [
        "COFACTOR Function which computes the cofactor of a given function for a set of variables"
      ]
    },
    {
      "cell_type": "code",
      "metadata": {
        "id": "_06GVPKHzEEO"
      },
      "source": [
        "def cofactor_function(function,variable):\n",
        "  # the input is taken as a string (ab+c') and is splitted to form a list\n",
        "    cubelist=function.split(\"+\")\n",
        "    for i in range (0,len(cubelist)):\n",
        "        cubelist[i]=validate_cube(cubelist[i])\n",
        "    var_list=get_variable_list(validate_cube(variable))\n",
        "    cubelist=validate_cubelist(cubelist)\n",
        "    cofactor=[]\n",
        "    for var in var_list:\n",
        "        cofactor=[]\n",
        "        for cube in cubelist:\n",
        "            if \"'\" in var:\n",
        "                cofactor_var=cofactor_cube(cube,var[0],0)\n",
        "                cofactor.append(cofactor_var)\n",
        "            else:\n",
        "                cofactor_var=cofactor_cube(cube,var[0],1)\n",
        "                cofactor.append(cofactor_var)\n",
        "        cubelist=cofactor\n",
        "    # print(cofactor)\n",
        "    for i in cofactor:\n",
        "        if i==\"1\":\n",
        "            return \"1\"\n",
        "    for i in cofactor:\n",
        "        if i==\"0\" and len(cofactor)>1:\n",
        "            cofactor.remove(i)\n",
        "    cofactor=validate_cubelist(cofactor)\n",
        "    # final=\"\"\n",
        "    final=\"+\".join(cofactor)\n",
        "      # \"\"\n",
        "    # print(final)\n",
        "    return final # string format\n",
        "\n",
        "\n",
        "\n",
        "def cofactor_cube(cube,literal,value):\n",
        "  # \"\"\"this function computes the cofactor for a cube \"\"\"\n",
        "    if cube==\"1\" or cube==\"0\":\n",
        "        return cube\n",
        "    else:\n",
        "        var_list=get_variable_list(cube)\n",
        "        for i in var_list:\n",
        "            if literal==i[0]:\n",
        "                if (\"'\" not in i and value==0) or (\"'\" in i and value==1):\n",
        "                    return \"0\"\n",
        "                elif (\"'\" not in i and value==1) and (len(cube)==1):\n",
        "                    return \"1\"\n",
        "                elif (\"'\" not in i and value==1) and len(cube)!=1:\n",
        "                    var_list.remove(i)\n",
        "                    break\n",
        "                elif (\"'\" in i and value==0) and len(cube)==2:\n",
        "                    return \"1\"\n",
        "                elif (\"'\" in i and value==0) and len(cube)!=2:\n",
        "                    var_list.remove(i)\n",
        "                    break\n",
        "        cofactor=\"\"\n",
        "        for i in var_list:\n",
        "            cofactor=\"\".join([cofactor,i])\n",
        "        return cofactor\n",
        "\n",
        "\n",
        "\n",
        "def validate_cubelist(cubelist):\n",
        "  # \"\"\"This function validates the cube list i.e removes redundancy etc..\"\"\" \n",
        "    cube_dict={}\n",
        "    for cube in cubelist:\n",
        "        if cube not in cube_dict:\n",
        "            cube_dict[cube]=1\n",
        "        else:\n",
        "            cubelist.remove(cube)\n",
        "    return cubelist\n",
        "\n",
        "\n",
        "\n",
        "def validate_cube(cube):\n",
        "  # Function validates the cube \n",
        "    literal_list_1=get_variable_list(cube)\n",
        "    literal_dict_1={}\n",
        "    for i in literal_list_1:\n",
        "        if i not in literal_dict_1:\n",
        "            literal_dict_1[i]=1\n",
        "    cube_1=\"\"\n",
        "    for key in literal_dict_1:\n",
        "        cube_1=\"\".join([cube_1,key])\n",
        "    literal_list_2=get_variable_list(cube_1)\n",
        "    literal_dict_2={}\n",
        "    for i in literal_list_2:\n",
        "        if i[0] in literal_dict_2:\n",
        "            return \"0\"\n",
        "        else:\n",
        "            literal_dict_2[i[0]]=1\n",
        "        \n",
        "    return cube_1\n",
        "            \n",
        "    \n",
        "def get_variable_list(variable):\n",
        "  # given a string of variables returns the list of variables\n",
        "    length=len(variable)\n",
        "    i=0\n",
        "    final=[]\n",
        "    while (i<length):\n",
        "        if i<length-1:\n",
        "            if variable[i]!=\"'\" and variable[i+1]==\"'\":\n",
        "                final.append(variable[i]+\"'\")\n",
        "                i=i+2\n",
        "            else:\n",
        "                final.append(variable[i])\n",
        "                i=i+1\n",
        "        elif i==length-1:\n",
        "            final.append(variable[i])\n",
        "            i=i+1\n",
        "    return final\n",
        "      "
      ],
      "execution_count": 67,
      "outputs": []
    },
    {
      "cell_type": "markdown",
      "metadata": {
        "id": "jiw2HF9wIF-m"
      },
      "source": [
        "ITE operator function which uses recursive calls and also Computed Table to avoid extra computation"
      ]
    },
    {
      "cell_type": "code",
      "metadata": {
        "id": "jnfapNRB2Xry"
      },
      "source": [
        "def ITE_operator(function,variable_order,index):\n",
        "  # computes the ITE which is the main part.\n",
        "  variable=variable_order[index] # top variable\n",
        "  variable_compliment=variable+\"'\" # compliment\n",
        "  # Both cofactors are calculated\n",
        "  cofactor_high=cofactor_function(function,variable)\n",
        "  cofactor_low=cofactor_function(function,variable_compliment)\n",
        "  #creating a key for variable in UT \n",
        "  key=variable+cofactor_high+cofactor_low\n",
        "  #create a node for the variable\n",
        "  node=Node(variable)\n",
        "  #Edge cases\n",
        "  if cofactor_high==\"1\":\n",
        "    node.high=high\n",
        "  if cofactor_high==\"0\":\n",
        "    node.high=low\n",
        "  if cofactor_low==\"1\":\n",
        "    node.low=high\n",
        "  if cofactor_low==\"0\":\n",
        "    node.low=low\n",
        "  #creating the keys for Computed table\n",
        "  CT_key_high=cofactor_high+str(index+1)\n",
        "  CT_key_low=cofactor_low+str(index+1)\n",
        "  if node.high==None:\n",
        "    if CT_key_high not in computed_table: #check\n",
        "      node.high=ITE_operator(cofactor_high,variable_order,index+1)\n",
        "      computed_table[CT_key_high]=node.high\n",
        "    else:\n",
        "      node.high=computed_table[CT_key_high]\n",
        "  if node.low==None:\n",
        "    if CT_key_low not in computed_table: #check\n",
        "      node.low=ITE_operator(cofactor_low,variable_order,index+1)\n",
        "      computed_table[CT_key_low]=node.low\n",
        "    else:\n",
        "      node.low=computed_table[CT_key_low]\n",
        "  node=get_pointer_from_UT(key,node) #check and update in UT \n",
        "  if node.low==node.high:\n",
        "    return node.low\n",
        "  return node\n",
        "\n"
      ],
      "execution_count": 68,
      "outputs": []
    },
    {
      "cell_type": "markdown",
      "metadata": {
        "id": "3fl55tl5IUho"
      },
      "source": [
        "INORDER TRAVERSAL FOR ROBDD "
      ]
    },
    {
      "cell_type": "code",
      "metadata": {
        "id": "MzEvT3w-2e9z"
      },
      "source": [
        "def inorder_robdd(node):\n",
        "  if node:\n",
        "    inorder_robdd(node.low)\n",
        "    print(node.name)\n",
        "    inorder_robdd(node.high)\n",
        "    "
      ],
      "execution_count": 69,
      "outputs": []
    },
    {
      "cell_type": "markdown",
      "metadata": {
        "id": "O47iqcnNIbIr"
      },
      "source": [
        "Main function calls.\n"
      ]
    },
    {
      "cell_type": "code",
      "metadata": {
        "colab": {
          "base_uri": "https://localhost:8080/"
        },
        "id": "3G8jKC9H2qcD",
        "outputId": "93dbb413-76c3-4c1b-881f-9ec734f27a32"
      },
      "source": [
        "unique_table={}\n",
        "computed_table={}\n",
        "function=input(\"enter the string of sops  \")\n",
        "variable_order_str=input(\"enter the variable order  \")\n",
        "variable_order=variable_order_str.split(\" \")\n",
        "print(variable_order)\n",
        "robdd=ITE_operator(function,variable_order,0)\n",
        "s=input(\"enter 1 for inorder traversal and 0 to display the tree \")\n",
        "COUNT=[10]\n",
        "if s==\"0\":\n",
        "  print2D(robdd)\n",
        "else:\n",
        "  inorder_robdd(robdd)\n",
        "\n"
      ],
      "execution_count": 71,
      "outputs": [
        {
          "output_type": "stream",
          "name": "stdout",
          "text": [
            "enter the string of sops  a+bc\n",
            "enter the variable order  b c a\n",
            "['b', 'c', 'a']\n",
            "enter 1 for inorder traversal and 0 to display the tree 1\n",
            "0\n",
            "a\n",
            "1\n",
            "b\n",
            "0\n",
            "a\n",
            "1\n",
            "c\n",
            "1\n"
          ]
        }
      ]
    },
    {
      "cell_type": "markdown",
      "metadata": {
        "id": "F_xtTIGrIaOJ"
      },
      "source": [
        "PRINTING TREE FUNCTION . TAKEN FROM INTERNET"
      ]
    },
    {
      "cell_type": "code",
      "metadata": {
        "id": "1S_q2fVGAtNe"
      },
      "source": [
        "def print2DUtil(root, space) :\n",
        " \n",
        "    # Base case\n",
        "    if (root == None) :\n",
        "        return\n",
        " \n",
        "    # Increase distance between levels\n",
        "    space += COUNT[0]\n",
        " \n",
        "    # Process right child first\n",
        "    print2DUtil(root.high, space)\n",
        " \n",
        "    # Print current node after space\n",
        "    # count\n",
        "    print()\n",
        "    for i in range(COUNT[0], space):\n",
        "        print(end = \" \")\n",
        "    print(root.name)\n",
        " \n",
        "    # Process left child\n",
        "    print2DUtil(root.low, space)\n",
        " \n",
        "# Wrapper over print2DUtil()\n",
        "def print2D(root) :\n",
        "     \n",
        "    # space=[0]\n",
        "    # Pass initial space count as 0\n",
        "    print2DUtil(root, 0)"
      ],
      "execution_count": 57,
      "outputs": []
    },
    {
      "cell_type": "code",
      "metadata": {
        "id": "TTMh8-NoF2fi"
      },
      "source": [
        ""
      ],
      "execution_count": 60,
      "outputs": []
    },
    {
      "cell_type": "code",
      "metadata": {
        "id": "vvX1TcgUF8fM"
      },
      "source": [
        ""
      ],
      "execution_count": null,
      "outputs": []
    }
  ]
}